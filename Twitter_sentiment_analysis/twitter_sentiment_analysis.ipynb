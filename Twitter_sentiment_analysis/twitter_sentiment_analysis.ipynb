{
  "cells": [
    {
      "cell_type": "markdown",
      "metadata": {
        "id": "Z0jZ27oRYMqM"
      },
      "source": [
        "# Twitter sentiment analysis\n"
      ]
    },
    {
      "cell_type": "markdown",
      "metadata": {
        "id": "SGfDsfDFYMqN"
      },
      "source": [
        "## Import functions and data"
      ]
    },
    {
      "cell_type": "code",
      "execution_count": 3,
      "metadata": {
        "id": "862oT5OZYMqO"
      },
      "outputs": [],
      "source": [
        "# run this cell to import nltk\n",
        "import numpy as np\n",
        "import pandas as pd\n",
        "import nltk\n",
        "from os import getcwd\n",
        "import re\n",
        "import string\n",
        "import matplotlib.pyplot as plt"
      ]
    },
    {
      "cell_type": "markdown",
      "metadata": {
        "id": "uyc7xO5PYMqO"
      },
      "source": [
        "### Imported functions\n",
        "\n",
        "Download the data needed for this assignment. Check out the [documentation for the twitter_samples dataset](http://www.nltk.org/howto/twitter.html).\n",
        "\n",
        "* twitter_samples and stopwords: While running on a local computer you need to download them using\n",
        "```Python\n",
        "nltk.download('twitter_samples')\n",
        "nltk.download('stopwords')\n",
        "```\n",
        "\n",
        "#### Import some helper functions that we provided in the utils.py file:\n",
        "* `clean_tweet()`: cleans, tokenizes, removes stopwords, and converts words to stems.\n",
        "* `build_frequency()`: this counts how often a word in the the entire set dataset of tweets was associated with a positive label '1' or a negative label '0', then builds the `frequency_words` dictionary, where each key is a (word,label) tuple, and the value is the count of its frequency within the corpus of tweets.\n",
        "* The `frequency_words` dictionary is the frequency dictionary that's being built. "
      ]
    },
    {
      "cell_type": "code",
      "execution_count": 4,
      "metadata": {
        "colab": {
          "base_uri": "https://localhost:8080/"
        },
        "id": "E3sygxTKYMqP",
        "outputId": "40458427-bada-4bfa-ca36-09c18b54806e"
      },
      "outputs": [
        {
          "name": "stderr",
          "output_type": "stream",
          "text": [
            "[nltk_data] Downloading package twitter_samples to\n",
            "[nltk_data]     /home/azharctp/nltk_data...\n",
            "[nltk_data]   Unzipping corpora/twitter_samples.zip.\n",
            "[nltk_data] Downloading package stopwords to\n",
            "[nltk_data]     /home/azharctp/nltk_data...\n",
            "[nltk_data]   Unzipping corpora/stopwords.zip.\n"
          ]
        },
        {
          "data": {
            "text/plain": [
              "True"
            ]
          },
          "execution_count": 4,
          "metadata": {},
          "output_type": "execute_result"
        }
      ],
      "source": [
        "nltk.download('twitter_samples')\n",
        "nltk.download('stopwords')"
      ]
    },
    {
      "cell_type": "code",
      "execution_count": 5,
      "metadata": {
        "id": "lyj3-HutYMqP"
      },
      "outputs": [],
      "source": [
        "# this code allows us to prevent downloading data again while refreshing our workspace\n",
        "filePath = f\"{getcwd()}/../temp/\"\n",
        "nltk.data.path.append(filePath)"
      ]
    },
    {
      "cell_type": "code",
      "execution_count": 6,
      "metadata": {
        "colab": {
          "base_uri": "https://localhost:8080/"
        },
        "id": "ReJSl_kgYMqQ",
        "outputId": "947bdcb1-a238-49d5-c5e1-7295bc899dce"
      },
      "outputs": [
        {
          "name": "stdout",
          "output_type": "stream",
          "text": [
            "/home/azharctp/DS200_git/azharctp.github.io/data-science-project/Twitter_sentiment_analysis/../temp/\n"
          ]
        }
      ],
      "source": [
        "print(filePath)"
      ]
    },
    {
      "cell_type": "markdown",
      "metadata": {
        "id": "b7L3q347YMqQ"
      },
      "source": [
        "### Data processing\n",
        "* The `twitter_samples` contains subsets of 5,000 positive tweets, 5,000 negative tweets, and the full set of 10,000 tweets.  "
      ]
    },
    {
      "cell_type": "code",
      "execution_count": 7,
      "metadata": {
        "id": "vRgnF6oeYMqQ"
      },
      "outputs": [],
      "source": [
        "from nltk.corpus import twitter_samples \n",
        "from nltk.corpus import stopwords\n",
        "from nltk.stem import PorterStemmer\n",
        "from nltk.tokenize import TweetTokenizer"
      ]
    },
    {
      "cell_type": "code",
      "execution_count": 8,
      "metadata": {
        "id": "hPfRZL0UYMqQ"
      },
      "outputs": [],
      "source": [
        "def clean_tweet(tweet):\n",
        "    \n",
        "    # tweets_clean: a list of words containing the processed tweet\n",
        "    stemmer = PorterStemmer()\n",
        "    stopwords_english = stopwords.words('english')\n",
        "    # remove stock market symbols like $GE\n",
        "    tweet = re.sub(r'\\$\\w*', '', tweet)\n",
        "    # remove old style retweet text \"RT\"\n",
        "    tweet = re.sub(r'^RT[\\s]+', '', tweet)\n",
        "    # remove hyperlinks\n",
        "    tweet = re.sub(r'https?:\\/\\/.*[\\r\\n]*', '', tweet)\n",
        "    # remove hashtags\n",
        "    # only removing the hash # sign from the word\n",
        "    tweet = re.sub(r'#', '', tweet)\n",
        "    # tokenize tweets\n",
        "    tokenizer = TweetTokenizer(preserve_case=False, strip_handles=True,\n",
        "                               reduce_len=True)\n",
        "    tweet_tokens = tokenizer.tokenize(tweet)\n",
        "\n",
        "    tweets_clean = []\n",
        "    for word in tweet_tokens:\n",
        "        if (word not in string.punctuation and  \n",
        "                word not in stopwords_english): \n",
        "            stem_word = stemmer.stem(word)  # stemming word\n",
        "            tweets_clean.append(stem_word)\n",
        "\n",
        "    return tweets_clean\n",
        "\n",
        "\n",
        "def build_frequency(tweets, y_np):\n",
        " \n",
        "    # Convert np array to list since zip needs an iterable.\n",
        "    # The squeeze is necessary or the list ends up with one element.\n",
        "    yslist = np.squeeze(y_np).tolist()\n",
        "\n",
        "    # Start with an empty dictionary and populate it by looping over all tweets\n",
        "    # and over all processed words in each tweet.\n",
        "    freqs = {}\n",
        "    for i in range(len(tweets)):\n",
        "        tweet = tweets[i]\n",
        "        y = yslist[i]\n",
        "        for word in clean_tweet(tweet):\n",
        "            pair = (word, y)\n",
        "            if pair in freqs:\n",
        "                freqs[pair] += 1\n",
        "            else:\n",
        "                freqs[pair] = 1\n",
        "\n",
        "    return freqs"
      ]
    },
    {
      "cell_type": "code",
      "execution_count": 9,
      "metadata": {
        "id": "xLCdJXUNYMqR"
      },
      "outputs": [],
      "source": [
        "# select the set of positive and negative tweets\n",
        "positive_tweets = twitter_samples.strings('positive_tweets.json')\n",
        "negative_tweets = twitter_samples.strings('negative_tweets.json')"
      ]
    },
    {
      "cell_type": "code",
      "execution_count": 10,
      "metadata": {
        "colab": {
          "base_uri": "https://localhost:8080/"
        },
        "id": "QdW2m7pvYMqR",
        "outputId": "491e30d0-f54f-4191-aaa9-a8fd281019c5"
      },
      "outputs": [
        {
          "name": "stdout",
          "output_type": "stream",
          "text": [
            "@Impatientraider On second thought, there’s just not enough time for a DD :) But new shorts entering system. Sheep must be buying.\n",
            "I have a really good m&amp;g idea but I'm never going to meet them :(((\n"
          ]
        }
      ],
      "source": [
        "print(positive_tweets[7])\n",
        "print(negative_tweets[10])\n"
      ]
    },
    {
      "cell_type": "markdown",
      "metadata": {
        "id": "iI006cOLYMqS"
      },
      "source": [
        "### Feature Extraction\n",
        "\n",
        "* Given a list of tweets, extract the features and store them in a matrix. You will extract two features.\n",
        "    * The first feature is the number of positive words in a tweet.\n",
        "    * The second feature is the number of negative words in a tweet. \n",
        "    * For each word, check the `frequency_words` dictionary for the count when that word has a positive '1' label. (Check for the key (word, 1.0)\n",
        "    * Do the same for the count for when the word is associated with the negative label '0'. (Check for the key (word, 0.0).)"
      ]
    },
    {
      "cell_type": "code",
      "execution_count": 11,
      "metadata": {
        "id": "bx_HWFabYMqS"
      },
      "outputs": [],
      "source": [
        "def extract_features(tweet, freqs):\n",
        "    \n",
        "    # clean_tweet tokenizes, stems, and removes stopwords\n",
        "    word_l = clean_tweet(tweet)\n",
        "    \n",
        "    # 3 elements in the form of a 1 x 3 vector\n",
        "    x = np.zeros((1, 3)) \n",
        "    x[0,0] = 1 \n",
        "    \n",
        "    for word in word_l:\n",
        "        \n",
        "        # increment the word count when the  label is positive \n",
        "        x[0,1] = x[0,1] + freqs.get((word, 1.0),0)\n",
        "        # increment the word count when the  label is negative \n",
        "        x[0,2] = x[0,2] + freqs.get((word, 0.0),0)\n",
        "        \n",
        "    return x"
      ]
    },
    {
      "cell_type": "markdown",
      "metadata": {
        "id": "yqwbKYnqYMqS"
      },
      "source": [
        "#### Instructions: Write `sigmoid`\n",
        "Finds the sigmoid of z "
      ]
    },
    {
      "cell_type": "code",
      "execution_count": 12,
      "metadata": {
        "id": "d7UdRNDKYMqS"
      },
      "outputs": [],
      "source": [
        "def sigmoid(z): \n",
        "    \n",
        "    # z is an input which can be a scalar or an array and h is the sigmoid of z \n",
        "    # write the formula for sigmoid here and assign it to h\n",
        "    h = 1/(1+np.exp(-z))\n",
        "    \n",
        "    return h"
      ]
    },
    {
      "cell_type": "markdown",
      "metadata": {
        "id": "tko2FX1RYMqS"
      },
      "source": [
        "#### Instructions: Write `predict_positivity_score`\n",
        "Predict whether a tweet is positive or negative.\n",
        "\n",
        "* Given a tweet, process it, then extract the features.\n",
        "* Apply the model's learned weights on the features to get the y.\n",
        "* Apply the sigmoid to the y to get the prediction (a value between 0 and 1).\n"
      ]
    },
    {
      "cell_type": "code",
      "execution_count": 13,
      "metadata": {
        "id": "xJ-27hS8YMqT"
      },
      "outputs": [],
      "source": [
        "def predict_positivity_score(tweet, freqs, theta):\n",
        "    \n",
        "    \n",
        "    # extracting features from tweet and the frequencies, this x will multiply with the coefficients which are passed to the \n",
        "    # sigmoid \n",
        "    x = extract_features(tweet,freqs)\n",
        "\n",
        "    # make the prediction using x and theta\n",
        "    # you need to make calculations for y_pred here. You may need to call sigmoid function here\n",
        "    y_pred = sigmoid(np.dot(x,theta))\n",
        "    \n",
        "    return y_pred"
      ]
    },
    {
      "cell_type": "markdown",
      "metadata": {
        "id": "eF-l_R5-YMqT"
      },
      "source": [
        "Note that the `frequency_words` dictionary should be based on the training data and training labels. Here we have done this for a few number of data points"
      ]
    },
    {
      "cell_type": "markdown",
      "metadata": {
        "id": "mfycpLqNYMqT"
      },
      "source": [
        "\n",
        "The given function `clean_tweet()` makes tokens from words and applies stemming (producing some variant of a root/base word) and removes stop words (commonly used words such as \"the\" ,\"a\" ,\"an\" among other words)"
      ]
    },
    {
      "cell_type": "code",
      "execution_count": 14,
      "metadata": {
        "id": "_8xTSni1YMqT"
      },
      "outputs": [],
      "source": [
        "#IMPLEMENT gradient descient here. \n",
        "# alpha is the learning rate \n",
        "# x is the data and y is hte label \n",
        "# theta is the initial parameter values \n",
        "# num_iters is the number of iterations you want the algorithm to run\n",
        "def gradientDescent(x, y, theta, alpha, num_iters):\n",
        "    N = x.shape[0]\n",
        "\n",
        "    list_of_loss_values = []\n",
        "    list_of_training_accuracy = []\n",
        "      \n",
        "    for i in range(0, num_iters):\n",
        "               \n",
        "        #sigmoid\n",
        "        h = sigmoid(np.dot(x,theta))\n",
        "        \n",
        "        #loss function\n",
        "        Z = -(np.dot(y.T,np.log(h))+np.dot((1-y).T,np.log(1-h)))/N\n",
        "        list_of_loss_values.append(Z[0,0])\n",
        "\n",
        "        #update the parameter values\n",
        "        theta = theta - alpha*(np.dot(x.T,h-y))/N\n",
        "\n",
        "        y_hat = sigmoid(np.dot(x,theta))\n",
        "        y_hat = (y_hat > 0.5).astype(int)\n",
        "\n",
        "        list_of_training_accuracy.append(np.sum(y.reshape(1,-1) == y_hat.reshape(1,-1))/len(y))\n",
        "          \n",
        "    J = float(Z) \n",
        "\n",
        "    # list_of_loss_values is the loss for each iteration which , same is the case with training accuracy\n",
        "    return J, theta,list_of_loss_values,list_of_training_accuracy"
      ]
    },
    {
      "cell_type": "markdown",
      "metadata": {
        "id": "cE6JXOBApQKz"
      },
      "source": [
        "**Test-train split**\n",
        "\n",
        "75% of the data for training and remaining 25 % for testing."
      ]
    },
    {
      "cell_type": "code",
      "execution_count": 18,
      "metadata": {
        "id": "IjL5p78VCOaj"
      },
      "outputs": [],
      "source": [
        "train_percent = 0.75\n",
        "\n",
        "pos_split = int(train_percent*len(positive_tweets))\n",
        "neg_split = int(train_percent*len(negative_tweets))\n",
        "\n",
        "test_pos_tweets = positive_tweets[pos_split:]\n",
        "train_pos_tweets = positive_tweets[:pos_split]\n",
        "test_neg_tweets = negative_tweets[neg_split:]\n",
        "train_neg_tweets = negative_tweets[:neg_split]\n",
        "\n",
        "train_x = train_pos_tweets + train_neg_tweets\n",
        "test_x = test_pos_tweets + test_neg_tweets\n",
        "\n",
        "train_y = np.append(np.ones((len(train_pos_tweets), 1)), np.zeros((len(train_neg_tweets), 1)), axis=0)\n",
        "test_y = np.append(np.ones((len(test_pos_tweets), 1)), np.zeros((len(test_neg_tweets), 1)), axis=0)\n",
        "\n",
        "frequency_words = build_frequency(train_x, train_y)"
      ]
    },
    {
      "cell_type": "code",
      "execution_count": 19,
      "metadata": {
        "id": "opIE_J2bYMqU"
      },
      "outputs": [],
      "source": [
        "# NOTE : call gradient descent to get coefficents and then pass that coefficents into predict function \n",
        "# something like : predict_positivity_score(tweet, frequency_words, coefficents)"
      ]
    },
    {
      "cell_type": "markdown",
      "metadata": {
        "id": "47otmeCKpo03"
      },
      "source": [
        "**Feature extraction**"
      ]
    },
    {
      "cell_type": "code",
      "execution_count": 20,
      "metadata": {
        "id": "vCZ5X1SkWl5E"
      },
      "outputs": [],
      "source": [
        "X = np.zeros((len(train_x), 3))\n",
        "for i in range(len(train_x)):\n",
        "    X[i, :]= extract_features(train_x[i], frequency_words)\n",
        "\n",
        "# training labels corresponding to X\n",
        "Y = train_y"
      ]
    },
    {
      "cell_type": "markdown",
      "metadata": {
        "id": "1IUpi-tfpq3u"
      },
      "source": [
        "**Scatter plot of number of ”positive” words vs number of ”negative” words for the tweets\n",
        "in the training dataset**\n",
        "\n",
        "We can observe clustering in the plot and no mixing of colours which shows good separation between positive and negative tweets with the model."
      ]
    },
    {
      "cell_type": "code",
      "execution_count": 21,
      "metadata": {
        "colab": {
          "base_uri": "https://localhost:8080/",
          "height": 497
        },
        "id": "053AfvJpnvlD",
        "outputId": "b3ea9f71-c2bc-4e56-8f26-bbf656f02198"
      },
      "outputs": [
        {
          "data": {
            "image/png": "[encoded data removed]",
            "text/plain": [
              "<Figure size 1000x800 with 1 Axes>"
            ]
          },
          "metadata": {},
          "output_type": "display_data"
        }
      ],
      "source": [
        "fig, ax = plt.subplots(figsize = (10, 8))\n",
        "\n",
        "colors = ['red', 'blue']\n",
        "\n",
        "# Color based on the sentiment Y\n",
        "ax.scatter(X[:,1], X[:,2], c=[colors[int(k)] for k in Y], s = 0.1)\n",
        "plt.xlabel(\"Positive\")\n",
        "plt.ylabel(\"Negative\")\n",
        "plt.show()"
      ]
    },
    {
      "cell_type": "markdown",
      "metadata": {
        "id": "BksC-HVIwMCN"
      },
      "source": [
        "**Gradient descent to update weights**"
      ]
    },
    {
      "cell_type": "code",
      "execution_count": 22,
      "metadata": {
        "colab": {
          "base_uri": "https://localhost:8080/"
        },
        "id": "DsNBOWtZXLC9",
        "outputId": "9512d7df-af83-4fae-95c9-a3d5b8b18c86"
      },
      "outputs": [
        {
          "name": "stdout",
          "output_type": "stream",
          "text": [
            "The cost after training is 0.09937357479783808.\n",
            "The resulting vector of weights is [6.7e-07, 0.00167578, -0.00136128]\n"
          ]
        }
      ],
      "source": [
        "J, theta, list_of_loss_values, list_of_training_accuracy = gradientDescent(X, Y, np.zeros((3, 1)), 1e-8, 2000)\n",
        "\n",
        "print(f\"The cost after training is {J}.\")\n",
        "print(f\"The resulting vector of weights is {[round(t, 8) for t in np.squeeze(theta)]}\")"
      ]
    },
    {
      "cell_type": "markdown",
      "metadata": {
        "id": "oaiSbGwrwF_1"
      },
      "source": [
        "**Misclassified tweets**\n",
        "\n",
        "There are 51 number of misclassified tweet by the model."
      ]
    },
    {
      "cell_type": "code",
      "execution_count": 23,
      "metadata": {
        "colab": {
          "base_uri": "https://localhost:8080/"
        },
        "id": "j2K3uZpAqurb",
        "outputId": "88d74823-5c23-4e0d-d0f3-bc24de4044a9"
      },
      "outputs": [
        {
          "name": "stdout",
          "output_type": "stream",
          "text": [
            "Misclassified tweet 'Funny how that happened when Phil was here too : )' as negative tweet\n",
            "Misclassified tweet 'I'm playing Brain Dots : ) #BrainDots\n",
            "http://t.co/cHl12JvuxN http://t.co/GGgU9PYEjI' as negative tweet\n",
            "Misclassified tweet 'Please go check out my awesome friend's stream at http://t.co/uVBD0iDwDW ! He's a fantastic artist. :)' as negative tweet\n",
            "Misclassified tweet 'I'm playing Brain Dots : ) #BrainDots\n",
            "http://t.co/MifDDs7CQS http://t.co/WtIWoeATPj' as negative tweet\n",
            "Misclassified tweet 'An apartment makeover? http://t.co/ctLa1jppdb great ideas for factory living :)' as negative tweet\n",
            "Misclassified tweet 'Remember that one time I didn't go to flume/kaytranada/alunageorge even though I had tickets? I still want to kms. : ) : )' as negative tweet\n",
            "Misclassified tweet '@Namraeter Here you go: http://t.co/nGJ1vzhsj1, please click on the link and checkout! :)' as negative tweet\n",
            "Misclassified tweet '@hectorparr0123 @hackadayio Sticker came with my sponsor prize for @HackadayPrize entry http://t.co/BnyB8BteW3. The tablet is my own :).' as negative tweet\n",
            "Misclassified tweet 'I'm playing Brain Dots : ) #BrainDots\n",
            "http://t.co/ilDzDRHf9d http://t.co/VTXNFCPFuI' as negative tweet\n",
            "Misclassified tweet 'The last thing Labour needs is a leader people want to vote for http://t.co/7zicZ1G0mb #jeremy4leader #jezwecan Do read - brilliant! :-)' as negative tweet\n",
            "Misclassified tweet 'I'm playing Brain Dots : ) #BrainDots http://t.co/pM64zaogPN http://t.co/IGg9sNMM1O' as negative tweet\n",
            "Misclassified tweet '@ellekagaoan @chinmarquez Catch up once in a while :( &gt;:D&lt; @aditriphosphate @ErinMonzon' as negative tweet\n",
            "Misclassified tweet 'I'm playing Brain Dots : ) #BrainDots\n",
            "http://t.co/5Z4aDMu7tx http://t.co/qhhOGhM97S' as negative tweet\n",
            "Misclassified tweet 'I'm playing Brain Dots : ) #BrainDots http://t.co/Y8LKMKSABv http://t.co/DWFUfPcfrb' as negative tweet\n",
            "Misclassified tweet '@_sarah_mae omg you can't just tell this and don't say more :p can't wait to know !!!! ❤️' as negative tweet\n",
            "Misclassified tweet 'I'm playing Brain Dots : ) #BrainDots\n",
            "http://t.co/S5Az1nSlHX http://t.co/TS2qrrlzV1' as negative tweet\n",
            "Misclassified tweet 'i'm here for a reason ok : )' as negative tweet\n",
            "Misclassified tweet 'I ATE YOUR LAST COOKIE SHIR0 &gt;:D' as negative tweet\n",
            "Misclassified tweet 'You´ve got me in chains for your love :´( — a sentir-se incompleta' as positive tweet\n",
            "Misclassified tweet 'I liked a @YouTube video http://t.co/2JcBiswDW9 More subs plz :(' as positive tweet\n",
            "Misclassified tweet '@pastelwolfxx @CHA_NNNNN niNASTY tsktsk oppa wont like u call his dick kawaii he is manly &gt;:( http://t.co/83cUgt7qQ3' as positive tweet\n",
            "Misclassified tweet '@Techverse_in first i tried this http://t.co/XTSzpi9fQW but no result :(' as positive tweet\n",
            "Misclassified tweet '@_awkwardraven Will do Senpai &gt;:( -looks up on all of buttsex-' as positive tweet\n",
            "Misclassified tweet 'I liked a @YouTube video http://t.co/93Z6WOVOs9 PASHA IS CRYING AFTER TERRIBLE DONATE :(' as positive tweet\n",
            "Misclassified tweet '@samayanyan yes thank u!! Oh damn that hella sucks :-( but at least u had a really good time that's all that matters' as positive tweet\n",
            "Misclassified tweet 'Win tickets to Cody Simpson concert in Singapore on August 10! http://t.co/6t9XKgtwTm #SpinorBinMusicXCodySimpson pls pls :(' as positive tweet\n",
            "Misclassified tweet 'Twitter Help Center | Why can&amp;#39;t I follow people? https://t.co/LeL2yOp3Iq via @support i really really sorry about following evry one :(' as positive tweet\n",
            "Misclassified tweet '@sainsburys guys a really unlucky one. The driver and I briefly checked eggs but my other half spotted this : ( http://t.co/WpCqJHhBVk' as positive tweet\n",
            "Misclassified tweet 'BECAUSE THAT'S YOUR GOAT MINO : (' as positive tweet\n",
            "Misclassified tweet '@LBHCRM hi beb :  ( i have a really bad migraine. sorry i wasn't on a lot today but i'm in a lot of pain : ( i'm gonna rest more. i love you' as positive tweet\n",
            "Misclassified tweet 'I liked a @YouTube video from @kilarzvortex http://t.co/sJmK2LZFxE Stuffy Nose :( (BO2)' as positive tweet\n",
            "Misclassified tweet 'BEAST NEXT WEEK!!! : (' as positive tweet\n",
            "Misclassified tweet 'I added a video to a @YouTube playlist http://t.co/sStJosDrNZ Short Talk! Last Day Of Beach :(' as positive tweet\n",
            "Misclassified tweet '@madjade24 @bocababy26 :C you don't know? :C daddy doesn't know? &gt;:(' as positive tweet\n",
            "Misclassified tweet 'http://t.co/ziJiJYLDXT via @youtube...Reality is!! :(' as positive tweet\n",
            "Misclassified tweet '@Israelgirly They sure do, esp now when ppl are talking crap about Millie!! &gt;:( I'll go straight to that FB page:)' as positive tweet\n",
            "Misclassified tweet '@kiyomitsucashew it kInda does :-( and thank you!!! ill def do th' as positive tweet\n",
            "Misclassified tweet 'true : ((( https://t.co/hfGyVJQ5RA' as positive tweet\n",
            "Misclassified tweet 'Corbyn must understand Labour's new members to change the party's fortunes http://t.co/7JhaSTESp8 And yet another rant from this woman :(' as positive tweet\n",
            "Misclassified tweet '@wtfxmbs AMBS please it's harry's jeans :)):):):(' as positive tweet\n",
            "Misclassified tweet 'laomma design; Kebaya &amp; Wedding Dress. Bandung - Indonesia\n",
            "LINE: laomma, \n",
            "7DF89150\n",
            "WHATSAPP : (+62) 089624641747\n",
            "Instagram : Laomma_Couture' as positive tweet\n",
            "Misclassified tweet 'And oh great, I'm sharing a carriage with a group of middle aged women in pink fur-trimmed stetsons. They've started drinking already &gt;:(' as positive tweet\n",
            "Misclassified tweet '@yongshwa huhu i know :-( thanks before satya! xx' as positive tweet\n",
            "Misclassified tweet 'i love got7's outfit for just right &gt;:( its so fun' as positive tweet\n",
            "Misclassified tweet 'shakes my head repeatedly. nu-uh, jace, i love you the mostest! &gt; : (' as positive tweet\n",
            "Misclassified tweet '@Skulker_PoA @ASUS_ROG Hi Skulker, check this thread: https://t.co/vMlI793G25 PG279Q isn’t coming anything soon sadly :(' as positive tweet\n",
            "Misclassified tweet 'Zehr khany ka time is coming soon.....: (' as positive tweet\n",
            "Misclassified tweet '#Rohingya #Muslims 72 indicted on human trafficking charges in Thailand - Asia - Around t... http://t.co/VWSLChONfd #SaveTheRohingya :-(' as positive tweet\n",
            "Misclassified tweet 'ITS BEEN SO LONG ED LOVE YOU SEE U SOON :-((( @thepohjien' as positive tweet\n",
            "Misclassified tweet '“@RobinhoodApp: We love spotting Robinhood out in the wild! Thanks for all the support out there, Robinhoodies! 🚙💚 http://t.co/bK6z2WhXMK”:(' as positive tweet\n",
            "Misclassified tweet '@hinata_shouyno fuck u Neil u ruined it &gt;:-(' as positive tweet\n",
            "Total number of misclassified tweets during training = 51\n"
          ]
        }
      ],
      "source": [
        "y_hat_miss = sigmoid(np.dot(X,theta))\n",
        "y_hat_miss = (y_hat_miss > 0.5).astype(int)\n",
        "miss_indices = []\n",
        "\n",
        "for i in range(len(Y)):\n",
        "  if Y[i]!=y_hat_miss[i]:\n",
        "    miss_indices.append(i)\n",
        "    if y_hat_miss[i]==0:\n",
        "      print(f\"Misclassified tweet '{train_x[i]}' as negative tweet\")\n",
        "    else:\n",
        "      print(f\"Misclassified tweet '{train_x[i]}' as positive tweet\")\n",
        "\n",
        "print(f'Total number of misclassified tweets during training = {len(miss_indices)}')"
      ]
    },
    {
      "cell_type": "markdown",
      "metadata": {
        "id": "2XToug4VwjPG"
      },
      "source": [
        "**Plots for variation of accuracy and loss as a function of number of iterations**"
      ]
    },
    {
      "cell_type": "code",
      "execution_count": 24,
      "metadata": {
        "colab": {
          "base_uri": "https://localhost:8080/",
          "height": 517
        },
        "id": "5Ufu1f5KwuHd",
        "outputId": "df3797bf-be49-4e57-8721-e005eb0f60e0"
      },
      "outputs": [
        {
          "data": {
            "image/png": "[encoded data removed]",
            "text/plain": [
              "<Figure size 1200x800 with 2 Axes>"
            ]
          },
          "metadata": {},
          "output_type": "display_data"
        }
      ],
      "source": [
        "fig,ax = plt.subplots(figsize=(12,8))\n",
        "# make a plot\n",
        "ax.plot(list_of_loss_values, color=\"red\")\n",
        "ax.set_title(\"Variation of accuracy and loss as a function of number of iterations\")\n",
        "# set x-axis label\n",
        "ax.set_xlabel(\"Iterates\", fontsize = 14)\n",
        "# set y-axis label\n",
        "ax.set_ylabel(\"Function loss value\", color=\"red\")\n",
        "# twin object for two different y-axis on the sample plot\n",
        "ax2=ax.twinx()\n",
        "# make a plot with different y-axis using second axis object\n",
        "ax2.plot(list_of_training_accuracy,color=\"blue\")\n",
        "ax2.set_ylabel(\"Train accuracy\",color=\"blue\")\n",
        "plt.show()"
      ]
    },
    {
      "cell_type": "markdown",
      "metadata": {
        "id": "0hha87quYMqU"
      },
      "source": [
        "## Testing your model\n",
        "After training your model using the training set above, check how your model might perform on real, unseen data, by testing it against the test set.\n",
        "\n",
        "#### Implement `test_logistic` \n",
        "* Given the test data and the weights of your trained model, calculate the accuracy of your logistic regression model. \n",
        "* Use your `predict_positivity_score()` function to make predictions on each tweet in the test set.\n",
        "* If the prediction is >= 0.5, set the model's the predicted label is 1 otherwise it is 0.  \n"
      ]
    },
    {
      "cell_type": "code",
      "execution_count": 25,
      "metadata": {
        "id": "MPPVlhEaYMqU"
      },
      "outputs": [],
      "source": [
        "# Testing your model on the test set\n",
        "def test_logistic(test_x, test_y, freqs, theta):\n",
        "    \n",
        "    #use your trained model to make predictions and then compare those predictions with the \n",
        "    # actual values to come up with an accuracy. and return this accuracy\n",
        "\n",
        "    y_hat = []\n",
        "    \n",
        "    for tweet in test_x:\n",
        " \n",
        "        y_pred = predict_positivity_score(tweet, freqs, theta)\n",
        "        \n",
        "        if y_pred >= 0.5:\n",
        "            y_hat.append(1.0)\n",
        "        else:\n",
        "            y_hat.append(0.0)\n",
        "\n",
        "    accuracy = np.sum(test_y.reshape(1,-1) == (np.array(y_hat)))/len(test_y)\n",
        "    \n",
        "    return accuracy"
      ]
    },
    {
      "cell_type": "markdown",
      "metadata": {
        "id": "8SClLu7DzgVv"
      },
      "source": [
        "**Training and test accuracies at the end of training.**\n",
        "\n",
        "Test accuracy = 0.9932\n",
        "\n",
        "Train accuracy at the end of training= 0.9932"
      ]
    },
    {
      "cell_type": "code",
      "execution_count": 26,
      "metadata": {
        "colab": {
          "base_uri": "https://localhost:8080/"
        },
        "id": "ozv2B59nbOQ-",
        "outputId": "8fc936cf-07de-43e0-8482-1cd129a8049c"
      },
      "outputs": [
        {
          "name": "stdout",
          "output_type": "stream",
          "text": [
            "Test accuracy = 0.9932\n",
            "Train accuracy at the end of training= 0.9932\n"
          ]
        }
      ],
      "source": [
        "test_accuracy = test_logistic(test_x, test_y, frequency_words, theta)\n",
        "print(f'Test accuracy = {test_accuracy}')\n",
        "print(f'Train accuracy at the end of training= {list_of_training_accuracy[-1]}')\n"
      ]
    },
    {
      "cell_type": "markdown",
      "metadata": {
        "id": "F8JBgqMV0JfV"
      },
      "source": [
        "**Predict the scores for the sentences**\n",
        "\n",
        "Predicted score for the tweet 'Let that sink in' = 0.51301274 and is a **positive sentiment**\n",
        "\n",
        "Predicted score for the tweet 'My psychiatrist told me I was crazy and I said I want a second opion. He said okay, you are ugly too ' = 0.46381839 and is a **negative sentiment**\n",
        "\n",
        "Predicted score for the tweet 'I’d rather have a drink with Mel Gibson in his hotel tonight than Bill Cosby.' = 0.50264881 and is a **positive sentiment**\n",
        "\n",
        "Predicted score for the tweet 'Building trust is the key to success in any relationship. Excuses, irregularity, chronically late, etc., are the ingredients to kill the TRUST.' = 0.50251737 and is a **positive sentiment**\n",
        "\n",
        "Predicted score for the tweet 'We are best friends. Always remember that if you fall i will pick you up. After I finish laughing' = 0.52784133 and is a **positive sentiment**\n",
        "\n",
        "For some tweets the scores are 0.50264881, 0.50251737 etc.. which are in the border of the limit we set to classify. Some words can have both positive and negative emotions depending on the situations. This can lead to misclassify the tweets. An algorithm which can interpret the sentence as a whole and understand the right emotion might give more accurate results."
      ]
    },
    {
      "cell_type": "code",
      "execution_count": 27,
      "metadata": {
        "colab": {
          "base_uri": "https://localhost:8080/"
        },
        "id": "ebh08KlSYMqU",
        "outputId": "2b92ed34-a2a9-46a7-aadb-4bda3576eda1"
      },
      "outputs": [
        {
          "name": "stdout",
          "output_type": "stream",
          "text": [
            "Predicted score for the tweet 'Let that sink in' = [0.51301274] and is a positive sentiment\n",
            "Predicted score for the tweet 'My psychiatrist told me I was crazy and I said I want a second opion. He said okay, you are ugly too ' = [0.46381839] and is a negative sentiment\n",
            "Predicted score for the tweet 'I’d rather have a drink with Mel Gibson in his hotel tonight than Bill Cosby.' = [0.50264881] and is a positive sentiment\n",
            "Predicted score for the tweet 'Building trust is the key to success in any relationship. Excuses, irregularity, chronically late, etc., are the ingredients to kill the TRUST.' = [0.50251737] and is a positive sentiment\n",
            "Predicted score for the tweet 'We are best friends. Always remember that if you fall i will pick you up. After I finish laughing' = [0.52784133] and is a positive sentiment\n"
          ]
        }
      ],
      "source": [
        "# Use your model to predict what these result in, whether it is a positive or negative sentiment. If possible, feel free to give\n",
        "# an intuitive explanation (short explanation) of the scores that you obtained\n",
        "\n",
        "my_tweet = ['Let that sink in',\n",
        "            'My psychiatrist told me I was crazy and I said I want a second opion. He said okay, you are ugly too ',\n",
        "            'I’d rather have a drink with Mel Gibson in his hotel tonight than Bill Cosby.',\n",
        "            'Building trust is the key to success in any relationship. Excuses, irregularity, chronically late, etc., are the ingredients to kill the TRUST.',\n",
        "            'We are best friends. Always remember that if you fall i will pick you up. After I finish laughing'\n",
        "           ]\n",
        "\n",
        "for tweet in my_tweet:\n",
        "  y_pred = predict_positivity_score(tweet, frequency_words, theta)\n",
        " \n",
        "  if y_pred >= 0.5:\n",
        "      print(f\"Predicted score for the tweet '{tweet}' = {y_pred[0]} and is a positive sentiment\")\n",
        "  else: \n",
        "      print(f\"Predicted score for the tweet '{tweet}' = {y_pred[0]} and is a negative sentiment\")"
      ]
    },
    {
      "cell_type": "markdown",
      "metadata": {
        "id": "KXcfB48ZhXO7"
      },
      "source": [
        "**Removing 5 emoticons**\n",
        "\n",
        "Test accuracy after removing emoticons = 0.6892\n",
        "Training accuracy at the end after removing emoticons = 0.7284\n",
        "\n",
        "Both test and training accuracies have reduced once the 5 emoticons were removed. This is due to the high weightage given to the emoticons while labeling the dataset. The emoticons are kind of direct representation of the kind of tweet compared to individual word counts and removing then from the model training resulted in defective model."
      ]
    },
    {
      "cell_type": "code",
      "execution_count": 28,
      "metadata": {
        "id": "ZKgBI9MJYMqa"
      },
      "outputs": [],
      "source": [
        "def clean_tweet(tweet, remove_emo = False):\n",
        "    \n",
        "    # tweets_clean: a list of words containing the processed tweet\n",
        "    stemmer = PorterStemmer()\n",
        "    stopwords_english = stopwords.words('english')\n",
        "    # remove stock market symbols like $GE\n",
        "    tweet = re.sub(r'\\$\\w*', '', tweet)\n",
        "    # remove old style retweet text \"RT\"\n",
        "    tweet = re.sub(r'^RT[\\s]+', '', tweet)\n",
        "    # remove hyperlinks\n",
        "    tweet = re.sub(r'https?:\\/\\/.*[\\r\\n]*', '', tweet)\n",
        "    # remove hashtags\n",
        "    # only removing the hash # sign from the word\n",
        "    tweet = re.sub(r'#', '', tweet)\n",
        "    \n",
        "    if remove_emo ==True:\n",
        "      #remove emoticons\n",
        "      tweet = re.sub(r':-*\\(*\\)*d*', '', tweet)\n",
        "\n",
        "    # tokenize tweets\n",
        "    tokenizer = TweetTokenizer(preserve_case=False, strip_handles=True,\n",
        "                               reduce_len=True)\n",
        "    tweet_tokens = tokenizer.tokenize(tweet)\n",
        "\n",
        "    tweets_clean = []\n",
        "    for word in tweet_tokens:\n",
        "        if (word not in string.punctuation and  \n",
        "                word not in stopwords_english): \n",
        "            stem_word = stemmer.stem(word)  # stemming word\n",
        "            tweets_clean.append(stem_word)\n",
        "\n",
        "    return tweets_clean"
      ]
    },
    {
      "cell_type": "code",
      "execution_count": 29,
      "metadata": {
        "colab": {
          "base_uri": "https://localhost:8080/"
        },
        "id": "DS1E_7bakTTs",
        "outputId": "c446bfe6-33e3-4259-d5be-64aa3fab1be9"
      },
      "outputs": [
        {
          "name": "stdout",
          "output_type": "stream",
          "text": [
            "The cost after training is 0.099374.\n",
            "The resulting vector of weights is [-1e-07, 0.00047287, -0.00035822]\n",
            "Test accuracy after removing emoticons = 0.6892\n",
            "Training accuracy at the end after removing emoticons = 0.7284\n"
          ]
        }
      ],
      "source": [
        "remove_emo = True\n",
        "\n",
        "frequency_words_wo_emo = build_frequency(train_x, train_y)\n",
        "\n",
        "X_wo_emo = np.zeros((len(train_x), 3))\n",
        "for i in range(len(train_x)):\n",
        "    X_wo_emo[i, :] = extract_features(train_x[i], frequency_words_wo_emo)\n",
        "\n",
        "\n",
        "# training labels corresponding to X\n",
        "Y_wo_emo = train_y\n",
        "\n",
        "J_wo_emo, theta_wo_emo,list_of_loss_values_wo_emo,list_of_training_accuracy_wo_emo = gradientDescent(X_wo_emo, Y_wo_emo, np.zeros((3, 1)), 1e-8, 2000)\n",
        "\n",
        "print(f\"The cost after training is {J:.6f}.\")\n",
        "print(f\"The resulting vector of weights is {[round(t, 8) for t in np.squeeze(theta_wo_emo)]}\")\n",
        "\n",
        "test_accuracy_wo_emo = test_logistic(test_x, test_y, frequency_words_wo_emo, theta_wo_emo)\n",
        "\n",
        "print(f'Test accuracy after removing emoticons = {test_accuracy_wo_emo}')\n",
        "print(f'Training accuracy at the end after removing emoticons = {list_of_training_accuracy_wo_emo[-1]}')\n",
        "\n",
        "remove_emo = False"
      ]
    }
  ],
  "metadata": {
    "colab": {
      "provenance": []
    },
    "kernelspec": {
      "display_name": "Python 3 (ipykernel)",
      "language": "python",
      "name": "python3"
    },
    "language_info": {
      "codemirror_mode": {
        "name": "ipython",
        "version": 3
      },
      "file_extension": ".py",
      "mimetype": "text/x-python",
      "name": "python",
      "nbconvert_exporter": "python",
      "pygments_lexer": "ipython3",
      "version": "3.9.16"
    }
  },
  "nbformat": 4,
  "nbformat_minor": 0
}
